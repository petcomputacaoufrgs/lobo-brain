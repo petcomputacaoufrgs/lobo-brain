{
  "nbformat": 4,
  "nbformat_minor": 0,
  "metadata": {
    "colab": {
      "name": "Untitled0.ipynb",
      "provenance": [],
      "collapsed_sections": []
    },
    "kernelspec": {
      "name": "python3",
      "display_name": "Python 3"
    }
  },
  "cells": [
    {
      "cell_type": "code",
      "metadata": {
        "id": "rPF2_A566exL",
        "colab_type": "code",
        "colab": {}
      },
      "source": [
        "import pandas as pd  \n",
        "import numpy as np  \n",
        "import matplotlib.pyplot as plt  \n",
        "%matplotlib inline"
      ],
      "execution_count": 0,
      "outputs": []
    },
    {
      "cell_type": "code",
      "metadata": {
        "id": "RZbIjGkv7IpB",
        "colab_type": "code",
        "colab": {
          "base_uri": "https://localhost:8080/",
          "height": 278
        },
        "outputId": "f3bee193-5b0a-48ed-a77d-4fa570349894"
      },
      "source": [
        "\n",
        "url = 'https://raw.githubusercontent.com/petcomputacaoufrgs/lobo-brain/cost-func/alinhamento/new-lobo/alinhamento/winrate.csv'\n",
        "\n",
        "dataset = pd.read_csv(url)\n",
        "X = dataset['Episode'].values.reshape(-1, 1)\n",
        "Y = dataset['Winrate'].values.reshape(-1, 1)\n",
        "\n",
        "print(dataset.shape)\n",
        "dataset.head\n"
      ],
      "execution_count": 62,
      "outputs": [
        {
          "output_type": "stream",
          "text": [
            "(500, 2)\n"
          ],
          "name": "stdout"
        },
        {
          "output_type": "execute_result",
          "data": {
            "text/plain": [
              "<bound method NDFrame.head of      Episode  Winrate\n",
              "0          0     0.00\n",
              "1        100     0.60\n",
              "2        200     0.52\n",
              "3        300     0.57\n",
              "4        400     0.56\n",
              "..       ...      ...\n",
              "495    49500     0.99\n",
              "496    49600     0.97\n",
              "497    49700     0.95\n",
              "498    49800     0.97\n",
              "499    49900     0.99\n",
              "\n",
              "[500 rows x 2 columns]>"
            ]
          },
          "metadata": {
            "tags": []
          },
          "execution_count": 62
        }
      ]
    },
    {
      "cell_type": "code",
      "metadata": {
        "id": "PCfvwkuB7kKP",
        "colab_type": "code",
        "colab": {
          "base_uri": "https://localhost:8080/",
          "height": 282
        },
        "outputId": "abac2083-03f9-40e1-8838-b5a33527be50"
      },
      "source": [
        "plt.scatter(X, Y, color='blue')"
      ],
      "execution_count": 63,
      "outputs": [
        {
          "output_type": "execute_result",
          "data": {
            "text/plain": [
              "<matplotlib.collections.PathCollection at 0x7fdc56eb2860>"
            ]
          },
          "metadata": {
            "tags": []
          },
          "execution_count": 63
        },
        {
          "output_type": "display_data",
          "data": {
            "image/png": "[encoded data removed]",
            "text/plain": [
              "<Figure size 432x288 with 1 Axes>"
            ]
          },
          "metadata": {
            "tags": []
          }
        }
      ]
    }
  ]
}